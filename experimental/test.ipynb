{
 "cells": [
  {
   "cell_type": "markdown",
   "metadata": {},
   "source": [
    "# Outline"
   ]
  },
  {
   "cell_type": "code",
   "execution_count": 4,
   "metadata": {},
   "outputs": [],
   "source": [
    "import sys\n",
    "import os\n",
    "\n",
    "# add utils to path for experimental subfolder\n",
    "sys.path.append(\"/net/talisker/home/benos/mae117/collaborations/ATAConv\")"
   ]
  },
  {
   "cell_type": "markdown",
   "metadata": {},
   "source": [
    "## Look over entirety of the code"
   ]
  },
  {
   "cell_type": "markdown",
   "metadata": {},
   "source": [
    "## I need to test the one-hot encoding in utils.py"
   ]
  },
  {
   "cell_type": "code",
   "execution_count": 21,
   "metadata": {},
   "outputs": [
    {
     "name": "stdout",
     "output_type": "stream",
     "text": [
      "this took:  -0.00027561187744140625\n"
     ]
    }
   ],
   "source": [
    "from typing_extensions import runtime\n",
    "import utils\n",
    "import time\n",
    "\n",
    "string=\"ATCACGATCGATATACG\"\n",
    "\n",
    "start_time = time.time()\n",
    "string_1he=utils.returnonehot(string)\n",
    "run_time = start_time - time.time()\n",
    "\n",
    "print(\"this took: \", run_time)"
   ]
  },
  {
   "cell_type": "code",
   "execution_count": 13,
   "metadata": {},
   "outputs": [
    {
     "name": "stdout",
     "output_type": "stream",
     "text": [
      "[[1. 0. 0. 1. 0. 0. 1. 0. 0. 0. 1. 0. 1. 0. 1. 0. 0.]\n",
      " [0. 0. 1. 0. 1. 0. 0. 0. 1. 0. 0. 0. 0. 0. 0. 1. 0.]\n",
      " [0. 0. 0. 0. 0. 1. 0. 0. 0. 1. 0. 0. 0. 0. 0. 0. 1.]\n",
      " [0. 1. 0. 0. 0. 0. 0. 1. 0. 0. 0. 1. 0. 1. 0. 0. 0.]]\n"
     ]
    }
   ],
   "source": [
    "len(string)\n",
    "string_1he.shape\n",
    "print(string_1he)"
   ]
  },
  {
   "cell_type": "code",
   "execution_count": 18,
   "metadata": {},
   "outputs": [
    {
     "name": "stdout",
     "output_type": "stream",
     "text": [
      "ATCACGATCGATATACG\n"
     ]
    }
   ],
   "source": [
    "import warnings\n",
    "from numpy import array\n",
    "from numpy import argmax\n",
    "from sklearn.preprocessing import LabelEncoder\n",
    "from sklearn.preprocessing import OneHotEncoder\n",
    "import re\n",
    "\n",
    "class Sequence:\n",
    "    def __init__(self) -> None:\n",
    "        pass\n",
    "\n",
    "\n",
    "\n",
    "def get_onehot(string):\n",
    "    try:\n",
    "        print(string)\n",
    "    except:\n",
    "        raise Exception(\"You input an invalid string.\")\n",
    "\n",
    "if __name__==\"__main__\":\n",
    "    get_onehot(string)"
   ]
  },
  {
   "cell_type": "markdown",
   "metadata": {},
   "source": [
    "## Look for more pertient ways to create a standard test/train split in the data\n",
    "- This is available on klaus"
   ]
  },
  {
   "cell_type": "markdown",
   "metadata": {},
   "source": [
    "## Look for a standard way to read motif formats in R or python"
   ]
  }
 ],
 "metadata": {
  "kernelspec": {
   "display_name": "Python 3.10.6 ('torch_cuda11-6')",
   "language": "python",
   "name": "python3"
  },
  "language_info": {
   "codemirror_mode": {
    "name": "ipython",
    "version": 3
   },
   "file_extension": ".py",
   "mimetype": "text/x-python",
   "name": "python",
   "nbconvert_exporter": "python",
   "pygments_lexer": "ipython3",
   "version": "3.10.6"
  },
  "orig_nbformat": 4,
  "vscode": {
   "interpreter": {
    "hash": "6ea0f11c0b19b03b008d674514e791aecf2b081ef7ae49da6cbbd72ad840dc54"
   }
  }
 },
 "nbformat": 4,
 "nbformat_minor": 2
}
